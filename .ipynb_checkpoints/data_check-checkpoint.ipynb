{
 "cells": [
  {
   "cell_type": "code",
   "execution_count": 26,
   "id": "cb24ad39-0e23-457b-b3a7-11f1add32f29",
   "metadata": {},
   "outputs": [],
   "source": [
    "import numpy as np\n",
    "import pandas as pd\n",
    "import matplotlib.pyplot as plt"
   ]
  },
  {
   "cell_type": "code",
   "execution_count": null,
   "id": "0710776e-b527-4cb7-86ec-c2ed07f07c0a",
   "metadata": {},
   "outputs": [],
   "source": [
    "# Read all dataframe from 9geek website.\n",
    "# c = constituency; candi = candidate\n",
    "pwd = \"9geek_dataset/\"\n",
    "info_c9 = pd.read_csv(pwd + \"info_constituency9.csv\")\n",
    "info_party9 = pd.read_csv(pwd + \"info_party9.csv\")\n",
    "info_province9 = pd.read_csv(pwd + \"info_province9.csv\")\n",
    "result_partylist9 = pd.read_csv(pwd + \"result_partylist9.csv\")\n",
    "result_cstatus9 = pd.read_csv(pwd + \"result_constituency_status9.csv\")\n",
    "result_candi9 = pd.read_csv(pwd + \"result_candidate9.csv\")\n",
    "\n",
    "# After identifying errors in the 9geek dataset, I manually corrected the dataset using ThaiPBS election result. \n",
    "id_name = dict(zip(info_party9[\"id\"], info_party9[\"name\"]))\n",
    "\n",
    "# After identifying errors in the 9geek dataset, I manually corrected the dataset using ThaiPBS election result. \n",
    "info_province = pd.read_csv(\"PL_info_province.csv\")\n",
    "result_candi = pd.read_csv(\"PL_result_constituencies_CandidateConst.csv\")\n",
    "result_overall = pd.read_csv(\"PL_result_constituencies_Overall.csv\").rename(columns = {\"Unnamed: 0\":\"cons_id\"})\n",
    "result_overall = result_overall.drop(columns = result_overall.columns.tolist()[4:]).set_index(\"cons_id\")"
   ]
  },
  {
   "cell_type": "markdown",
   "id": "4f9406b5-cb0c-4153-8ab5-8813a1af3ac3",
   "metadata": {},
   "source": [
    "# TLDR\n",
    "\n",
    "I have provided several sanity checks for users of the dataset. The dataset provided on Github titled **PL_result_constituencies_CandidateConst.csv** and **PL_result_constituencies_Overall.csv** passed all of the sanity check, and the results for each constituency match those from the ECT official website. You are welcome to use the constituency datasets as you see fit. However, please **credit** Peem Lerdputtipongporn for processing the final version of this dataset and the 9geek volunteers for the original version of the dataset.\n",
    "\n",
    "# Sanity Check 1: Voters per constituency \n",
    "**Object**: info_c9\n",
    "1. Few constituencies should have fewer than 100,000 or more than 150,000 eligible voters (True).\n",
    "- Only Mae Hong Sorn (MSN), Pang Nga (PNA), and Pattani (PTN) should have constituencies with fewer than 100,000 voters. \n",
    "- Likewise, only 10 districts have more than 150,000 registered voters. \n",
    "2. The number of eligible voters in each constituency should not differ by a factor greater than 2 (False).\n",
    "- TRT_1 (Trat District 1) has more than 175,000 registered votes, whereas MSN_1 (Mae Hong Sorn District 1) has only 87,000.\n",
    "3. ECT definitely divides the constituency such that each has approximately equal number of constituents. Hence, the histogram of eligible voters per constituency should be approximately normally distributed (True)."
   ]
  },
  {
   "cell_type": "code",
   "execution_count": 31,
   "id": "500653f0-24ef-4559-9e64-165d66e4541b",
   "metadata": {},
   "outputs": [
    {
     "data": {
      "text/plain": [
       "2.006393436987981"
      ]
     },
     "execution_count": 31,
     "metadata": {},
     "output_type": "execute_result"
    }
   ],
   "source": [
    "# Ratio between maximum registered voters and minimum of all constituencies.\n",
    "info_c9[\"registered_vote\"].max()/info_c9[\"registered_vote\"].min()"
   ]
  },
  {
   "cell_type": "code",
   "execution_count": 34,
   "id": "d88d6d2d-f7ad-4959-bf27-736d249b3bb1",
   "metadata": {},
   "outputs": [
    {
     "data": {
      "text/plain": [
       "array(['ACR_2', 'LPG_2', 'LPG_4', 'LPN_1', 'LPN_2', 'PKN_1', 'SBR_1',\n",
       "       'SKM_1', 'SKN_1', 'SKN_3', 'TAK_1', 'TRT_1'], dtype=object)"
      ]
     },
     "execution_count": 34,
     "metadata": {},
     "output_type": "execute_result"
    }
   ],
   "source": [
    "# Number of districts with more than 150,000 registered votes. \n",
    "info_c9[info_c9[\"registered_vote\"] > 150000][\"cons_id\"].unique()"
   ]
  },
  {
   "cell_type": "code",
   "execution_count": 38,
   "id": "858835e9-b5f2-4706-9d2d-abb788c383c5",
   "metadata": {},
   "outputs": [
    {
     "data": {
      "text/plain": [
       "(array([  4.,   5.,  16.,  51., 123., 132.,  53.,  11.,   2.,   3.]),\n",
       " array([ 87277. ,  96060.5, 104844. , 113627.5, 122411. , 131194.5,\n",
       "        139978. , 148761.5, 157545. , 166328.5, 175112. ]),\n",
       " <BarContainer object of 10 artists>)"
      ]
     },
     "execution_count": 38,
     "metadata": {},
     "output_type": "execute_result"
    },
    {
     "data": {
      "image/png": "[encoded data removed]",
      "text/plain": [
       "<Figure size 640x480 with 1 Axes>"
      ]
     },
     "metadata": {},
     "output_type": "display_data"
    }
   ],
   "source": [
    "# Each constituency is further divided into zones (i.e., district) but the registered vote is tallied at a constituency-level.\n",
    "# Therefore, we can drop duplicate constituents and plot the histogram. \n",
    "temp = info_c9.drop_duplicates(subset=['cons_id','registered_vote'])\n",
    "plt.hist(temp[\"registered_vote\"])"
   ]
  },
  {
   "cell_type": "markdown",
   "id": "d5e7c051-d6d3-4908-b624-bdb4e02806f9",
   "metadata": {},
   "source": [
    "# Sanity Check 2: Constituency and province\n",
    "\n",
    "**Object**: info_c9 and info_province\n",
    "\n",
    "1. The number of registered votes per province should equal to the sum of registered votes across all constituencies in the province. That is, let $V_{i}$ be the number of votes in province $i$ and $\\mathcal{C}_i$ the number of votes per constituency in province $i$. The following must hold: $$V_i = \\sum\\limits_{c \\in C_i} c$$ (True).\n",
    "\n",
    "2. Basic facts\n",
    "- The sum of eligible votes should be around 50 million (True).\n",
    "- 77 provinces and 400 constituencies in the previous election.\n",
    "- Major provinces in Thailand, such as Bangkok, Nonthaburi, Khon Kaen, Chiang Mai, Nakorn Ratchasima, Surat Thani, etc. should have the largest number of registered votes (True).\n",
    "\n",
    "3. The number of votes per voting station should contain no outlier (e.g., differ by a factor greater than 2) (True)."
   ]
  },
  {
   "cell_type": "code",
   "execution_count": 81,
   "id": "e430c087-f6fb-4446-9b60-957635b8794b",
   "metadata": {},
   "outputs": [],
   "source": [
    "# Vote per province = sum of votes across all constituencies within the province\n",
    "temp1 = info_province.set_index(\"prov_id\")\n",
    "temp2 = info_c9.drop_duplicates(\"cons_id\").groupby(\"prov_id\").sum()[\"registered_vote\"]\n",
    "for index in temp.index.tolist():\n",
    "    assert temp1.loc[index][\"total_registered_vote\"] == temp2.loc[index]"
   ]
  },
  {
   "cell_type": "code",
   "execution_count": 114,
   "id": "9c72ad8e-42d7-4afc-bd03-9fd89780dc30",
   "metadata": {},
   "outputs": [],
   "source": [
    "# Basic facts\n",
    "assert sum(temp2) > 5*(10**7) ## The total number of registered votes should be around 50 million.\n",
    "assert len(info_province[\"prov_id\"].unique()) == 77\n",
    "assert len(info_c9[\"cons_id\"].unique()) == 400"
   ]
  },
  {
   "cell_type": "code",
   "execution_count": 116,
   "id": "714d15a6-eee1-4a6b-8d7c-243790a500da",
   "metadata": {},
   "outputs": [
    {
     "data": {
      "text/plain": [
       "prov_id\n",
       "BKK    4479155\n",
       "NMA    2120399\n",
       "UBN    1473971\n",
       "KKN    1449595\n",
       "CMI    1331007\n",
       "BRM    1250148\n",
       "UDN    1248824\n",
       "CBI    1234192\n",
       "NST    1220778\n",
       "SSK    1162288\n",
       "SKA    1098389\n",
       "SRN    1090337\n",
       "SPK    1086284\n",
       "NBI    1056364\n",
       "RET    1054706\n",
       "Name: registered_vote, dtype: int64"
      ]
     },
     "execution_count": 116,
     "metadata": {},
     "output_type": "execute_result"
    }
   ],
   "source": [
    "## Most populous provinces and highest number of registered votes.\n",
    "temp2.sort_values(ascending=False)[:15]"
   ]
  },
  {
   "cell_type": "markdown",
   "id": "8ac84958-6d5d-4124-8708-068cdaca2cc5",
   "metadata": {},
   "source": [
    "# Sanity Check 3: Total votes for any candidate and overall turnout\n",
    "\n",
    "**Object**: result_candi and result_overall\n",
    "\n",
    "1. The histogram of registered votes per constituency are concentrated around $100,000-160,000$ votes. Assuming a turnout ratio of $75-90\\%$ and $5\\%$ invalid or no-vote ballot, there should be few constituencies with fewer than $70,000$ or greater than $130,000$ votes (True).\n",
    "\n",
    "2. Most constituencies should have turnout of around $70-80\\%$. For districts with extremely high or low turnout in comparison to others, verify the information with the ECT official website (True, did not detect any inconsistency). \n",
    "\n",
    "3. Historically, there should be around $3-5\\%$ of invalid ballots and no more than $5\\%$ of no-votes. After checking with the ECT offical website, the results are confirmed to be true. Indeed, there are districts with very high invalid ballot."
   ]
  },
  {
   "cell_type": "code",
   "execution_count": 129,
   "id": "8a1d5e82-4b18-4fdf-ac67-08cecfefb198",
   "metadata": {},
   "outputs": [
    {
     "data": {
      "text/html": [
       "<div>\n",
       "<style scoped>\n",
       "    .dataframe tbody tr th:only-of-type {\n",
       "        vertical-align: middle;\n",
       "    }\n",
       "\n",
       "    .dataframe tbody tr th {\n",
       "        vertical-align: top;\n",
       "    }\n",
       "\n",
       "    .dataframe thead th {\n",
       "        text-align: right;\n",
       "    }\n",
       "</style>\n",
       "<table border=\"1\" class=\"dataframe\">\n",
       "  <thead>\n",
       "    <tr style=\"text-align: right;\">\n",
       "      <th></th>\n",
       "      <th>mp_app_id</th>\n",
       "      <th>mp_app_rank</th>\n",
       "      <th>mp_app_vote</th>\n",
       "      <th>percent</th>\n",
       "      <th>party_id</th>\n",
       "    </tr>\n",
       "    <tr>\n",
       "      <th>cons_id</th>\n",
       "      <th></th>\n",
       "      <th></th>\n",
       "      <th></th>\n",
       "      <th></th>\n",
       "      <th></th>\n",
       "    </tr>\n",
       "  </thead>\n",
       "  <tbody>\n",
       "    <tr>\n",
       "      <th>LPN_1</th>\n",
       "      <td>LPN_1_3LPN_1_1LPN_1_9LPN_1_7LPN_1_4LPN_1_6LPN_...</td>\n",
       "      <td>78</td>\n",
       "      <td>137569</td>\n",
       "      <td>99.99</td>\n",
       "      <td>8748</td>\n",
       "    </tr>\n",
       "    <tr>\n",
       "      <th>LPN_2</th>\n",
       "      <td>LPN_2_2LPN_2_4LPN_2_8LPN_2_1LPN_2_5LPN_2_7LPN_...</td>\n",
       "      <td>91</td>\n",
       "      <td>131375</td>\n",
       "      <td>99.99</td>\n",
       "      <td>9537</td>\n",
       "    </tr>\n",
       "  </tbody>\n",
       "</table>\n",
       "</div>"
      ],
      "text/plain": [
       "                                                 mp_app_id  mp_app_rank  \\\n",
       "cons_id                                                                   \n",
       "LPN_1    LPN_1_3LPN_1_1LPN_1_9LPN_1_7LPN_1_4LPN_1_6LPN_...           78   \n",
       "LPN_2    LPN_2_2LPN_2_4LPN_2_8LPN_2_1LPN_2_5LPN_2_7LPN_...           91   \n",
       "\n",
       "         mp_app_vote  percent  party_id  \n",
       "cons_id                                  \n",
       "LPN_1         137569    99.99      8748  \n",
       "LPN_2         131375    99.99      9537  "
      ]
     },
     "execution_count": 129,
     "metadata": {},
     "output_type": "execute_result"
    },
    {
     "data": {
      "image/png": "[encoded data removed]",
      "text/plain": [
       "<Figure size 640x480 with 1 Axes>"
      ]
     },
     "metadata": {},
     "output_type": "display_data"
    }
   ],
   "source": [
    "# Total ballot cast for any candidate should be around 70k-130k.\n",
    "total_vote = result_candi.groupby(\"cons_id\").sum()\n",
    "\n",
    "plt.hist(total_vote[\"mp_app_vote\"])\n",
    "total_vote[total_vote[\"mp_app_vote\"] < 70000]\n",
    "total_vote[total_vote[\"mp_app_vote\"] > 130000]"
   ]
  },
  {
   "cell_type": "code",
   "execution_count": 179,
   "id": "ce69706d-1fd1-4e88-bb4f-9aa495eacaad",
   "metadata": {},
   "outputs": [],
   "source": [
    "# Plot the distribution of overall turnout.\n",
    "turnout_lst = []\n",
    "high_turnout = []\n",
    "low_turnout = []\n",
    "temp = info_c9.drop_duplicates(\"cons_id\").set_index(\"cons_id\")\n",
    "for index in result_overall.index.tolist():\n",
    "    total_vote = sum(result_overall.loc[index])\n",
    "    registered_vote = temp[\"registered_vote\"].loc[index]\n",
    "    turnout = total_vote/registered_vote\n",
    "    if(turnout < 0.67):\n",
    "        low_turnout.append(index)\n",
    "    elif(turnout > 0.83):\n",
    "        high_turnout.append(index)\n",
    "    turnout_lst.append(turnout)"
   ]
  },
  {
   "cell_type": "code",
   "execution_count": 174,
   "id": "793e7c63-d81f-431a-bc70-94a3bdbb02dc",
   "metadata": {},
   "outputs": [
    {
     "data": {
      "text/plain": [
       "Text(0.5, 1.0, 'Histogram of turnout ratio per constituency')"
      ]
     },
     "execution_count": 174,
     "metadata": {},
     "output_type": "execute_result"
    },
    {
     "data": {
      "image/png": "[encoded data removed]",
      "text/plain": [
       "<Figure size 640x480 with 1 Axes>"
      ]
     },
     "metadata": {},
     "output_type": "display_data"
    }
   ],
   "source": [
    "plt.hist(turnout_lst)\n",
    "plt.xlabel(\"Turnout ratio\")\n",
    "plt.ylabel(\"Count\")\n",
    "plt.title(\"Histogram of turnout ratio per constituency\")"
   ]
  },
  {
   "cell_type": "code",
   "execution_count": 190,
   "id": "1d9a8181-bb1f-42c3-a413-2cd675ea03b1",
   "metadata": {},
   "outputs": [],
   "source": [
    "# Calculate the ratio of invalid ballot and no-votes\n",
    "err_ratio = [np.round(result_overall.loc[index][\"Candidate_Err\"]/sum(result_overall.loc[index]),3)\n",
    "             for index in result_overall.index.tolist()]\n",
    "no_vote_ratio = [np.round(result_overall.loc[index][\"Candidate_NoVote\"]/sum(result_overall.loc[index]),3)\n",
    "                 for index in result_overall.index.tolist()]\n",
    "result_overall[\"err_ratio\"] = err_ratio\n",
    "result_overall[\"no_vote_ratio\"] = no_vote_ratio"
   ]
  },
  {
   "cell_type": "code",
   "execution_count": 193,
   "id": "8221e878-f34a-4f5b-a1db-981981b9fe96",
   "metadata": {},
   "outputs": [
    {
     "data": {
      "text/plain": [
       "(array([60., 99., 88., 73., 52., 16.,  6.,  2.,  3.,  1.]),\n",
       " array([0.005 , 0.0113, 0.0176, 0.0239, 0.0302, 0.0365, 0.0428, 0.0491,\n",
       "        0.0554, 0.0617, 0.068 ]),\n",
       " <BarContainer object of 10 artists>)"
      ]
     },
     "execution_count": 193,
     "metadata": {},
     "output_type": "execute_result"
    },
    {
     "data": {
      "image/png": "[encoded data removed]",
      "text/plain": [
       "<Figure size 640x480 with 1 Axes>"
      ]
     },
     "metadata": {},
     "output_type": "display_data"
    }
   ],
   "source": [
    "plt.hist(result_overall[\"no_vote_ratio\"])"
   ]
  },
  {
   "cell_type": "markdown",
   "id": "6da3a063-7186-4f8c-bb70-606ad2966af9",
   "metadata": {},
   "source": [
    "# Sanity Check 4: Do results from the dataset match the announced results?\n",
    "\n",
    "1. The number of constituency seats each party acquires must match the election result (True).\n",
    "2. The total number of votes each party obtains must match the official result."
   ]
  },
  {
   "cell_type": "code",
   "execution_count": 237,
   "id": "e49cce98-d66a-47d1-8671-219db77f8299",
   "metadata": {},
   "outputs": [
    {
     "data": {
      "text/html": [
       "<div>\n",
       "<style scoped>\n",
       "    .dataframe tbody tr th:only-of-type {\n",
       "        vertical-align: middle;\n",
       "    }\n",
       "\n",
       "    .dataframe tbody tr th {\n",
       "        vertical-align: top;\n",
       "    }\n",
       "\n",
       "    .dataframe thead th {\n",
       "        text-align: right;\n",
       "    }\n",
       "</style>\n",
       "<table border=\"1\" class=\"dataframe\">\n",
       "  <thead>\n",
       "    <tr style=\"text-align: right;\">\n",
       "      <th></th>\n",
       "      <th>count</th>\n",
       "      <th>party_name</th>\n",
       "    </tr>\n",
       "    <tr>\n",
       "      <th>party_id</th>\n",
       "      <th></th>\n",
       "      <th></th>\n",
       "    </tr>\n",
       "  </thead>\n",
       "  <tbody>\n",
       "    <tr>\n",
       "      <th>705</th>\n",
       "      <td>112</td>\n",
       "      <td>เพื่อไทย</td>\n",
       "    </tr>\n",
       "    <tr>\n",
       "      <th>726</th>\n",
       "      <td>112</td>\n",
       "      <td>ก้าวไกล</td>\n",
       "    </tr>\n",
       "    <tr>\n",
       "      <th>709</th>\n",
       "      <td>68</td>\n",
       "      <td>ภูมิใจไทย</td>\n",
       "    </tr>\n",
       "    <tr>\n",
       "      <th>743</th>\n",
       "      <td>39</td>\n",
       "      <td>พลังประชารัฐ</td>\n",
       "    </tr>\n",
       "    <tr>\n",
       "      <th>763</th>\n",
       "      <td>23</td>\n",
       "      <td>รวมไทยสร้างชาติ</td>\n",
       "    </tr>\n",
       "    <tr>\n",
       "      <th>701</th>\n",
       "      <td>22</td>\n",
       "      <td>ประชาธิปัตย์</td>\n",
       "    </tr>\n",
       "    <tr>\n",
       "      <th>707</th>\n",
       "      <td>9</td>\n",
       "      <td>ชาติไทยพัฒนา</td>\n",
       "    </tr>\n",
       "    <tr>\n",
       "      <th>740</th>\n",
       "      <td>7</td>\n",
       "      <td>ประชาชาติ</td>\n",
       "    </tr>\n",
       "    <tr>\n",
       "      <th>762</th>\n",
       "      <td>5</td>\n",
       "      <td>ไทยสร้างไทย</td>\n",
       "    </tr>\n",
       "    <tr>\n",
       "      <th>773</th>\n",
       "      <td>2</td>\n",
       "      <td>เพื่อไทรวมพลัง</td>\n",
       "    </tr>\n",
       "    <tr>\n",
       "      <th>706</th>\n",
       "      <td>1</td>\n",
       "      <td>ชาติพัฒนากล้า</td>\n",
       "    </tr>\n",
       "  </tbody>\n",
       "</table>\n",
       "</div>"
      ],
      "text/plain": [
       "          count       party_name\n",
       "party_id                        \n",
       "705         112         เพื่อไทย\n",
       "726         112          ก้าวไกล\n",
       "709          68        ภูมิใจไทย\n",
       "743          39     พลังประชารัฐ\n",
       "763          23  รวมไทยสร้างชาติ\n",
       "701          22     ประชาธิปัตย์\n",
       "707           9     ชาติไทยพัฒนา\n",
       "740           7        ประชาชาติ\n",
       "762           5      ไทยสร้างไทย\n",
       "773           2   เพื่อไทรวมพลัง\n",
       "706           1    ชาติพัฒนากล้า"
      ]
     },
     "execution_count": 237,
     "metadata": {},
     "output_type": "execute_result"
    }
   ],
   "source": [
    "# Find the party obtaining highest number of seats in each constituency\n",
    "highest_vote = result_candi.sort_values(by = [\"cons_id\", \"mp_app_vote\"], ascending = False).drop_duplicates(\"cons_id\")\n",
    "# Count the number of party_id and display results\n",
    "highest_vote = highest_vote[\"party_id\"].value_counts().to_frame()\n",
    "party_name = highest_vote.index.map(id_name)\n",
    "highest_vote[\"party_name\"] = party_name\n",
    "highest_vote"
   ]
  },
  {
   "cell_type": "code",
   "execution_count": 248,
   "id": "6cb7b440-2c1f-4f7a-abad-be7dcff6cbb6",
   "metadata": {},
   "outputs": [],
   "source": [
    "party_total_vote = result_candi.groupby(\"party_id\").sum().sort_values(\"mp_app_vote\", ascending = False).head(20)\n",
    "party_total_vote = party_total_vote.drop(columns =[\"cons_id\",\"mp_app_id\",\"percent\"])\n",
    "party_total_vote[\"party_name\"] = party_total_vote.index.map(id_name)"
   ]
  },
  {
   "cell_type": "code",
   "execution_count": 249,
   "id": "13583ec4-374a-4205-8355-022863201a98",
   "metadata": {},
   "outputs": [
    {
     "data": {
      "text/html": [
       "<div>\n",
       "<style scoped>\n",
       "    .dataframe tbody tr th:only-of-type {\n",
       "        vertical-align: middle;\n",
       "    }\n",
       "\n",
       "    .dataframe tbody tr th {\n",
       "        vertical-align: top;\n",
       "    }\n",
       "\n",
       "    .dataframe thead th {\n",
       "        text-align: right;\n",
       "    }\n",
       "</style>\n",
       "<table border=\"1\" class=\"dataframe\">\n",
       "  <thead>\n",
       "    <tr style=\"text-align: right;\">\n",
       "      <th></th>\n",
       "      <th>mp_app_rank</th>\n",
       "      <th>mp_app_vote</th>\n",
       "      <th>party_name</th>\n",
       "    </tr>\n",
       "    <tr>\n",
       "      <th>party_id</th>\n",
       "      <th></th>\n",
       "      <th></th>\n",
       "      <th></th>\n",
       "    </tr>\n",
       "  </thead>\n",
       "  <tbody>\n",
       "    <tr>\n",
       "      <th>726</th>\n",
       "      <td>904</td>\n",
       "      <td>9665335</td>\n",
       "      <td>ก้าวไกล</td>\n",
       "    </tr>\n",
       "    <tr>\n",
       "      <th>705</th>\n",
       "      <td>1064</td>\n",
       "      <td>9339755</td>\n",
       "      <td>เพื่อไทย</td>\n",
       "    </tr>\n",
       "    <tr>\n",
       "      <th>709</th>\n",
       "      <td>1887</td>\n",
       "      <td>5131844</td>\n",
       "      <td>ภูมิใจไทย</td>\n",
       "    </tr>\n",
       "    <tr>\n",
       "      <th>743</th>\n",
       "      <td>1791</td>\n",
       "      <td>4186318</td>\n",
       "      <td>พลังประชารัฐ</td>\n",
       "    </tr>\n",
       "    <tr>\n",
       "      <th>763</th>\n",
       "      <td>1662</td>\n",
       "      <td>3607734</td>\n",
       "      <td>รวมไทยสร้างชาติ</td>\n",
       "    </tr>\n",
       "    <tr>\n",
       "      <th>701</th>\n",
       "      <td>2285</td>\n",
       "      <td>2280395</td>\n",
       "      <td>ประชาธิปัตย์</td>\n",
       "    </tr>\n",
       "    <tr>\n",
       "      <th>762</th>\n",
       "      <td>2217</td>\n",
       "      <td>873166</td>\n",
       "      <td>ไทยสร้างไทย</td>\n",
       "    </tr>\n",
       "    <tr>\n",
       "      <th>707</th>\n",
       "      <td>330</td>\n",
       "      <td>585205</td>\n",
       "      <td>ชาติไทยพัฒนา</td>\n",
       "    </tr>\n",
       "    <tr>\n",
       "      <th>740</th>\n",
       "      <td>85</td>\n",
       "      <td>334051</td>\n",
       "      <td>ประชาชาติ</td>\n",
       "    </tr>\n",
       "    <tr>\n",
       "      <th>706</th>\n",
       "      <td>757</td>\n",
       "      <td>297944</td>\n",
       "      <td>ชาติพัฒนากล้า</td>\n",
       "    </tr>\n",
       "    <tr>\n",
       "      <th>719</th>\n",
       "      <td>3124</td>\n",
       "      <td>277041</td>\n",
       "      <td>เสรีรวมไทย</td>\n",
       "    </tr>\n",
       "    <tr>\n",
       "      <th>769</th>\n",
       "      <td>2982</td>\n",
       "      <td>97498</td>\n",
       "      <td>ไทยภักดี</td>\n",
       "    </tr>\n",
       "    <tr>\n",
       "      <th>773</th>\n",
       "      <td>2</td>\n",
       "      <td>94345</td>\n",
       "      <td>เพื่อไทรวมพลัง</td>\n",
       "    </tr>\n",
       "    <tr>\n",
       "      <th>739</th>\n",
       "      <td>496</td>\n",
       "      <td>89382</td>\n",
       "      <td>รวมแผ่นดิน</td>\n",
       "    </tr>\n",
       "    <tr>\n",
       "      <th>742</th>\n",
       "      <td>2637</td>\n",
       "      <td>50951</td>\n",
       "      <td>คลองไทย</td>\n",
       "    </tr>\n",
       "    <tr>\n",
       "      <th>721</th>\n",
       "      <td>603</td>\n",
       "      <td>43963</td>\n",
       "      <td>เพื่อชาติ</td>\n",
       "    </tr>\n",
       "    <tr>\n",
       "      <th>733</th>\n",
       "      <td>1063</td>\n",
       "      <td>33764</td>\n",
       "      <td>ไทยศรีวิไลย์</td>\n",
       "    </tr>\n",
       "    <tr>\n",
       "      <th>737</th>\n",
       "      <td>887</td>\n",
       "      <td>20928</td>\n",
       "      <td>พลังปวงชนไทย</td>\n",
       "    </tr>\n",
       "    <tr>\n",
       "      <th>761</th>\n",
       "      <td>844</td>\n",
       "      <td>20352</td>\n",
       "      <td>พลังสังคมใหม่</td>\n",
       "    </tr>\n",
       "    <tr>\n",
       "      <th>738</th>\n",
       "      <td>782</td>\n",
       "      <td>19866</td>\n",
       "      <td>เพื่อชาติไทย</td>\n",
       "    </tr>\n",
       "  </tbody>\n",
       "</table>\n",
       "</div>"
      ],
      "text/plain": [
       "          mp_app_rank  mp_app_vote       party_name\n",
       "party_id                                           \n",
       "726               904      9665335          ก้าวไกล\n",
       "705              1064      9339755         เพื่อไทย\n",
       "709              1887      5131844        ภูมิใจไทย\n",
       "743              1791      4186318     พลังประชารัฐ\n",
       "763              1662      3607734  รวมไทยสร้างชาติ\n",
       "701              2285      2280395     ประชาธิปัตย์\n",
       "762              2217       873166      ไทยสร้างไทย\n",
       "707               330       585205     ชาติไทยพัฒนา\n",
       "740                85       334051        ประชาชาติ\n",
       "706               757       297944    ชาติพัฒนากล้า\n",
       "719              3124       277041       เสรีรวมไทย\n",
       "769              2982        97498         ไทยภักดี\n",
       "773                 2        94345   เพื่อไทรวมพลัง\n",
       "739               496        89382       รวมแผ่นดิน\n",
       "742              2637        50951          คลองไทย\n",
       "721               603        43963        เพื่อชาติ\n",
       "733              1063        33764     ไทยศรีวิไลย์\n",
       "737               887        20928     พลังปวงชนไทย\n",
       "761               844        20352    พลังสังคมใหม่\n",
       "738               782        19866     เพื่อชาติไทย"
      ]
     },
     "execution_count": 249,
     "metadata": {},
     "output_type": "execute_result"
    }
   ],
   "source": [
    "party_total_vote"
   ]
  },
  {
   "cell_type": "code",
   "execution_count": null,
   "id": "bd6e1fcf-3121-4913-be18-950a7e20115b",
   "metadata": {},
   "outputs": [],
   "source": []
  }
 ],
 "metadata": {
  "kernelspec": {
   "display_name": "Python 3 (ipykernel)",
   "language": "python",
   "name": "python3"
  },
  "language_info": {
   "codemirror_mode": {
    "name": "ipython",
    "version": 3
   },
   "file_extension": ".py",
   "mimetype": "text/x-python",
   "name": "python",
   "nbconvert_exporter": "python",
   "pygments_lexer": "ipython3",
   "version": "3.11.4"
  }
 },
 "nbformat": 4,
 "nbformat_minor": 5
}
