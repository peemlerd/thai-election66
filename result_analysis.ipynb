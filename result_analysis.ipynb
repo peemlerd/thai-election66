{
 "cells": [
  {
   "cell_type": "code",
   "execution_count": 1,
   "id": "c5b1c977-ed76-4021-8da6-5416c3cb74d3",
   "metadata": {},
   "outputs": [],
   "source": [
    "import numpy as np\n",
    "import pandas as pd\n",
    "import matplotlib.pyplot as plt"
   ]
  },
  {
   "cell_type": "code",
   "execution_count": 2,
   "id": "5a69eeb2-8978-4f5b-862e-3debd8587fda",
   "metadata": {},
   "outputs": [],
   "source": [
    "# Read all dataframe from 9geek website.\n",
    "# c = constituency; candi = candidate\n",
    "pwd = \"9geek_dataset/\"\n",
    "info_c9 = pd.read_csv(pwd + \"info_constituency9.csv\")\n",
    "info_party9 = pd.read_csv(pwd + \"info_party9.csv\")\n",
    "info_province9 = pd.read_csv(pwd + \"info_province9.csv\")\n",
    "result_partylist9 = pd.read_csv(pwd + \"result_partylist9.csv\")\n",
    "result_cstatus9 = pd.read_csv(pwd + \"result_constituency_status9.csv\")\n",
    "result_candi9 = pd.read_csv(pwd + \"result_candidate9.csv\")\n",
    "\n",
    "# After identifying errors in the 9geek dataset, I manually corrected the dataset using ThaiPBS election result. \n",
    "id_name = dict(zip(info_party9[\"id\"], info_party9[\"name\"]))\n",
    "\n",
    "# After identifying errors in the 9geek dataset, I manually corrected the dataset using ThaiPBS election result. \n",
    "info_province = pd.read_csv(\"PL_info_province.csv\")\n",
    "result_candi = pd.read_csv(\"PL_result_constituencies_CandidateConst.csv\").sort_values(by = [\"cons_id\",\"mp_app_rank\"], ascending=True)\n",
    "result_candi = result_candi.drop_duplicates(\"cons_id\")\n",
    "result_overall = pd.read_csv(\"PL_result_constituencies_Overall.csv\").rename(columns = {\"Unnamed: 0\":\"cons_id\"})\n",
    "result_overall = result_overall.drop(columns = result_overall.columns.tolist()[4:]).set_index(\"cons_id\")"
   ]
  },
  {
   "cell_type": "markdown",
   "id": "dd346a6d-5510-4e56-8a55-30d452fa47d5",
   "metadata": {},
   "source": [
    "# Ideology standpoint\n",
    "\n",
    "Thai election is often viewed through binary lens — progressive versus conservative; pro-democracy versus pro-authoritarian; etc. My favorite quote says, \"lens helps clarify but also distorts.\" Although prefer not to view election according to such a binary lens (how would you define authoritarian anyway?), I will proceed with the analysis using the term.\n",
    "\n",
    "# Results\n",
    "## Irregularity in invalid ballots\n",
    "\n",
    "## Margin of victory"
   ]
  },
  {
   "cell_type": "code",
   "execution_count": 4,
   "id": "0126666f-d6ba-42df-937d-2de14b57905c",
   "metadata": {},
   "outputs": [
    {
     "data": {
      "text/plain": [
       "party_id\n",
       "726    113\n",
       "705    112\n",
       "709     67\n",
       "743     39\n",
       "763     23\n",
       "701     22\n",
       "707      9\n",
       "740      7\n",
       "762      5\n",
       "773      2\n",
       "706      1\n",
       "Name: count, dtype: int64"
      ]
     },
     "execution_count": 4,
     "metadata": {},
     "output_type": "execute_result"
    }
   ],
   "source": [
    "result_candi[\"party_id\"].value_counts()"
   ]
  },
  {
   "cell_type": "code",
   "execution_count": 25,
   "id": "02426f87-cd0b-4d7e-a4bc-0ccf9abfb7dd",
   "metadata": {},
   "outputs": [
    {
     "data": {
      "text/plain": [
       "party_id\n",
       "726    113\n",
       "705    112\n",
       "709     67\n",
       "743     39\n",
       "763     23\n",
       "701     22\n",
       "707      9\n",
       "740      7\n",
       "762      5\n",
       "773      2\n",
       "706      1\n",
       "Name: count, dtype: int64"
      ]
     },
     "execution_count": 25,
     "metadata": {},
     "output_type": "execute_result"
    }
   ],
   "source": [
    "result_candi.groupby(\"cons_id\").nth(0)[\"party_id\"].value_counts()"
   ]
  },
  {
   "cell_type": "code",
   "execution_count": null,
   "id": "83be7cfe-9530-40dd-b211-167ae82a8826",
   "metadata": {},
   "outputs": [],
   "source": []
  }
 ],
 "metadata": {
  "kernelspec": {
   "display_name": "Python 3 (ipykernel)",
   "language": "python",
   "name": "python3"
  },
  "language_info": {
   "codemirror_mode": {
    "name": "ipython",
    "version": 3
   },
   "file_extension": ".py",
   "mimetype": "text/x-python",
   "name": "python",
   "nbconvert_exporter": "python",
   "pygments_lexer": "ipython3",
   "version": "3.11.4"
  }
 },
 "nbformat": 4,
 "nbformat_minor": 5
}
