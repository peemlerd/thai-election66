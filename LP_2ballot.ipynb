{
 "cells": [
  {
   "cell_type": "code",
   "execution_count": 49,
   "id": "60498010-f856-43f2-b5f6-ff0d13588783",
   "metadata": {},
   "outputs": [],
   "source": [
    "from gekko import GEKKO\n",
    "import numpy as np"
   ]
  },
  {
   "cell_type": "code",
   "execution_count": 62,
   "id": "988d6dd4-7a50-4f2f-ad34-a75d5f11eb08",
   "metadata": {},
   "outputs": [
    {
     "name": "stdout",
     "output_type": "stream",
     "text": [
      "apm 118.174.95.125_gk_model21 <br><pre> ----------------------------------------------------------------\n",
      " APMonitor, Version 1.0.1\n",
      " APMonitor Optimization Suite\n",
      " ----------------------------------------------------------------\n",
      " \n",
      " \n",
      " Warning: there is insufficient data in CSV file 118.174.95.125_gk_model21.csv\n",
      " \n",
      " --------- APM Model Size ------------\n",
      " Each time step contains\n",
      "   Objects      :            0\n",
      "   Constants    :            0\n",
      "   Variables    :           24\n",
      "   Intermediates:            0\n",
      "   Connections  :            0\n",
      "   Equations    :            9\n",
      "   Residuals    :            9\n",
      " \n",
      " Number of state variables:             24\n",
      " Number of total equations: -            8\n",
      " Number of slack variables: -            8\n",
      " ---------------------------------------\n",
      " Degrees of freedom       :              8\n",
      " \n",
      " **********************************************\n",
      " Steady State Optimization with Interior Point Solver\n",
      " **********************************************\n",
      "  \n",
      "  \n",
      " Info: Exact Hessian\n",
      "\n",
      "******************************************************************************\n",
      "This program contains Ipopt, a library for large-scale nonlinear optimization.\n",
      " Ipopt is released as open source code under the Eclipse Public License (EPL).\n",
      "         For more information visit http://projects.coin-or.org/Ipopt\n",
      "******************************************************************************\n",
      "\n",
      "This is Ipopt version 3.12.10, running with linear solver ma57.\n",
      "\n",
      "Number of nonzeros in equality constraint Jacobian...:       40\n",
      "Number of nonzeros in inequality constraint Jacobian.:        0\n",
      "Number of nonzeros in Lagrangian Hessian.............:        0\n",
      "\n",
      "Total number of variables............................:       24\n",
      "                     variables with only lower bounds:        8\n",
      "                variables with lower and upper bounds:       16\n",
      "                     variables with only upper bounds:        0\n",
      "Total number of equality constraints.................:        8\n",
      "Total number of inequality constraints...............:        0\n",
      "        inequality constraints with only lower bounds:        0\n",
      "   inequality constraints with lower and upper bounds:        0\n",
      "        inequality constraints with only upper bounds:        0\n",
      "\n",
      "iter    objective    inf_pr   inf_du lg(mu)  ||d||  lg(rg) alpha_du alpha_pr  ls\n",
      "   0  2.9999970e-02 4.77e+04 1.42e+00   0.0 0.00e+00    -  0.00e+00 0.00e+00   0\n",
      "   1  3.1115962e+02 4.72e+04 9.57e+03   3.1 1.02e+04    -  1.11e-06 1.08e-02f  1\n",
      "   2  6.0983831e+02 4.67e+04 9.50e+03   3.6 1.93e+04    -  1.00e+00 1.10e-02f  1\n",
      "   3  2.7609141e+04 2.27e-12 1.07e+04   3.0 1.40e+04    -  2.07e-02 1.00e+00f  1\n",
      "   4  1.3217812e+04 3.64e-12 1.00e+01   3.6 1.88e+04    -  6.86e-01 1.00e+00f  1\n",
      "   5  6.9542886e+03 1.82e-12 7.63e-02   3.2 6.92e+03    -  9.95e-01 1.00e+00f  1\n",
      "   6  9.4123520e+02 1.59e-12 2.39e-01   1.7 5.90e+03    -  8.61e-01 1.00e+00f  1\n",
      "   7  1.3397985e+01 9.09e-13 1.19e-03   0.5 9.44e+02    -  9.96e-01 9.99e-01f  1\n",
      "Reallocating memory for MA57: lfact (371)\n",
      "   8  1.3499098e-01 3.64e-12 1.55e-05  -5.4 1.33e+01    -  9.89e-01 9.90e-01f  1\n",
      "Reallocating memory for MA57: lfact (550)\n",
      "   9  1.3500266e-03 7.28e-12 1.55e-07  -7.4 1.35e-01    -  9.90e-01 9.90e-01f  1\n",
      "Reallocating memory for MA57: lfact (1481)\n",
      "iter    objective    inf_pr   inf_du lg(mu)  ||d||  lg(rg) alpha_du alpha_pr  ls\n",
      "  10  1.1139544e-06 2.27e-12 1.31e-10  -9.4 2.55e-03    -  9.99e-01 9.99e-01f  1\n",
      "\n",
      "Number of Iterations....: 10\n",
      "\n",
      "                                   (scaled)                 (unscaled)\n",
      "Objective...............:   1.1139543817764762e-06    1.1139543817764762e-06\n",
      "Dual infeasibility......:   1.3141604888801855e-10    1.3141604888801855e-10\n",
      "Constraint violation....:   2.2737367544323206e-12    2.2737367544323206e-12\n",
      "Complementarity.........:   7.1756660280200605e-07    7.1756660280200605e-07\n",
      "Overall NLP error.......:   7.1756660280200605e-07    7.1756660280200605e-07\n",
      "\n",
      "\n",
      "Number of objective function evaluations             = 11\n",
      "Number of objective gradient evaluations             = 11\n",
      "Number of equality constraint evaluations            = 11\n",
      "Number of inequality constraint evaluations          = 0\n",
      "Number of equality constraint Jacobian evaluations   = 11\n",
      "Number of inequality constraint Jacobian evaluations = 0\n",
      "Number of Lagrangian Hessian evaluations             = 10\n",
      "Total CPU secs in IPOPT (w/o function evaluations)   =      0.006\n",
      "Total CPU secs in NLP function evaluations           =      0.001\n",
      "\n",
      "EXIT: Optimal Solution Found.\n",
      " \n",
      " The solution was found.\n",
      " \n",
      " The final value of the objective function is   1.113954381776476E-006\n",
      " \n",
      " ---------------------------------------------------\n",
      " Solver         :  IPOPT (v3.12)\n",
      " Solution time  :   1.430000000254950E-002 sec\n",
      " Objective      :   1.113954381776476E-006\n",
      " Successful solution\n",
      " ---------------------------------------------------\n",
      " \n",
      "[2.9862113431e-07] [2.8726732555e-07]\n"
     ]
    }
   ],
   "source": [
    "m = GEKKO()\n",
    "\n",
    "# Party List Pheu Thai constraint\n",
    "pp = m.Var(lb=10000,ub=12000)\n",
    "pm = m.Var(lb=0,ub=17144)\n",
    "pb = m.Var(lb=0,ub=17144)\n",
    "po = m.Var(lb=0,ub=17144)\n",
    "\n",
    "# Party List\n",
    "mp = m.Var(lb = 0, ub=14179)\n",
    "mm = m.Var(lb = 4000, ub=14179)\n",
    "mb = m.Var(lb = 0, ub=14179)\n",
    "mo = m.Var(lb = 0, ub=14179)\n",
    "\n",
    "# Party List \n",
    "bp = m.Var(lb=0, ub=47746)\n",
    "bm = m.Var(lb=0, ub=47746)\n",
    "bb = m.Var(lb=0, ub=20000)\n",
    "bo = m.Var(lb=0, ub=47746)\n",
    "\n",
    "# Party List\n",
    "op = m.Var(lb=0, ub=5253)\n",
    "om = m.Var(lb=0, ub=5253)\n",
    "ob = m.Var(lb=0, ub=5253)\n",
    "oo = m.Var(lb=1000, ub=5253)\n",
    "\n",
    "# Add constraint on party list sum\n",
    "m.Equation(pp+mp+bp+op <= 24637)\n",
    "m.Equation(pm+mm+bm+om <= 26667)\n",
    "m.Equation(pb+mb+bb+ob <= 19142)\n",
    "m.Equation(po+mo+bo+oo <= 14617)\n",
    "\n",
    "m.Equation(pp+pm+pb+po <= 17144)\n",
    "m.Equation(mp+mm+mb+mo <= 14179)\n",
    "m.Equation(bp+bm+bb+bo <= 47746)\n",
    "m.Equation(op+om+ob+oo <= 5253)\n",
    "\n",
    "m.Minimize(bm+bp+bo) # Profit function\n",
    "m.solve(disp=True)\n",
    "print(bm.value, bp.value)"
   ]
  },
  {
   "cell_type": "code",
   "execution_count": 60,
   "id": "f00ab2a4-562c-466e-90e9-590acd2e41e1",
   "metadata": {},
   "outputs": [
    {
     "name": "stdout",
     "output_type": "stream",
     "text": [
      "[0.0] [0.0] [0.0]\n"
     ]
    }
   ],
   "source": [
    "print(bm.value, bp.value, bo.value)"
   ]
  },
  {
   "cell_type": "code",
   "execution_count": 52,
   "id": "c5d1bf53-fba4-47f5-aecb-0c5d010403f9",
   "metadata": {},
   "outputs": [
    {
     "data": {
      "text/plain": [
       "0.0"
      ]
     },
     "execution_count": 52,
     "metadata": {},
     "output_type": "execute_result"
    }
   ],
   "source": [
    "np.round(float(bp.value[0]),5)"
   ]
  },
  {
   "cell_type": "code",
   "execution_count": null,
   "id": "1093d1df-a480-4c7b-b072-a8d56ef5edb2",
   "metadata": {},
   "outputs": [],
   "source": []
  }
 ],
 "metadata": {
  "kernelspec": {
   "display_name": "Python 3 (ipykernel)",
   "language": "python",
   "name": "python3"
  },
  "language_info": {
   "codemirror_mode": {
    "name": "ipython",
    "version": 3
   },
   "file_extension": ".py",
   "mimetype": "text/x-python",
   "name": "python",
   "nbconvert_exporter": "python",
   "pygments_lexer": "ipython3",
   "version": "3.11.4"
  }
 },
 "nbformat": 4,
 "nbformat_minor": 5
}
