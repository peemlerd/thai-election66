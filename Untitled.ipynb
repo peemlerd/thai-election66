{
 "cells": [
  {
   "cell_type": "code",
   "execution_count": 1,
   "id": "1ed69889-636e-47ec-9e80-25f85073645d",
   "metadata": {},
   "outputs": [],
   "source": [
    "import numpy as np\n",
    "import pandas as pd\n",
    "import matplotlib.pyplot as plt\n",
    "import seaborn as sns"
   ]
  },
  {
   "cell_type": "code",
   "execution_count": 2,
   "id": "ac50db38-a6a5-40af-a522-a77554ff6e0f",
   "metadata": {},
   "outputs": [],
   "source": [
    "# Read all dataframe from 9geek website.\n",
    "# c = constituency; candi = candidate\n",
    "pwd = \"9geek_dataset/\"\n",
    "info_c9 = pd.read_csv(pwd + \"info_constituency9.csv\")\n",
    "info_party9 = pd.read_csv(pwd + \"info_party9.csv\")\n",
    "info_province9 = pd.read_csv(pwd + \"info_province9.csv\")\n",
    "result_partylist9 = pd.read_csv(pwd + \"result_partylist9.csv\")\n",
    "result_cstatus9 = pd.read_csv(pwd + \"result_constituency_status9.csv\")\n",
    "result_candi9 = pd.read_csv(pwd + \"result_candidate9.csv\")\n",
    "\n",
    "# Read my personal dataframe\n",
    "info_province = pd.read_csv(\"PL_info_province.csv\")\n",
    "result_candi = pd.read_csv(\"PL_result_constituencies_CandidateConst.csv\")\n",
    "result_overall = pd.read_csv(\"PL_result_constituencies_Overall.csv\").rename(columns = {\"Unnamed: 0\":\"cons_id\"})\n",
    "result_overall = result_overall.drop(columns = result_overall.columns.tolist()[4:]).set_index(\"cons_id\")"
   ]
  },
  {
   "cell_type": "code",
   "execution_count": 3,
   "id": "860b753a-9ae8-498f-909e-bce5ae180164",
   "metadata": {},
   "outputs": [],
   "source": [
    "# Create a map between party ID, color, and name\n",
    "id_name = dict(zip(info_party9[\"id\"], info_party9[\"name\"]))\n",
    "party_color_map = dict(zip(info_party9[\"id\"], info_party9[\"color\"]))"
   ]
  },
  {
   "cell_type": "code",
   "execution_count": null,
   "id": "5e12fef4-56bf-4f6f-9df9-03f955b9b9f5",
   "metadata": {},
   "outputs": [],
   "source": []
  }
 ],
 "metadata": {
  "kernelspec": {
   "display_name": "Python 3 (ipykernel)",
   "language": "python",
   "name": "python3"
  },
  "language_info": {
   "codemirror_mode": {
    "name": "ipython",
    "version": 3
   },
   "file_extension": ".py",
   "mimetype": "text/x-python",
   "name": "python",
   "nbconvert_exporter": "python",
   "pygments_lexer": "ipython3",
   "version": "3.11.4"
  }
 },
 "nbformat": 4,
 "nbformat_minor": 5
}
